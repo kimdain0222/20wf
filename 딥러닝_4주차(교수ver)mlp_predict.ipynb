{
  "cells": [
    {
      "cell_type": "markdown",
      "metadata": {
        "id": "view-in-github",
        "colab_type": "text"
      },
      "source": [
        "<a href=\"https://colab.research.google.com/github/kimdain0222/20wf/blob/master/%EB%94%A5%EB%9F%AC%EB%8B%9D_4%EC%A3%BC%EC%B0%A8(%EA%B5%90%EC%88%98ver)mlp_predict.ipynb\" target=\"_parent\"><img src=\"https://colab.research.google.com/assets/colab-badge.svg\" alt=\"Open In Colab\"/></a>"
      ]
    },
    {
      "cell_type": "code",
      "execution_count": null,
      "id": "b37586f0-e423-47a5-8749-1a292ba4c8b8",
      "metadata": {
        "id": "b37586f0-e423-47a5-8749-1a292ba4c8b8"
      },
      "outputs": [],
      "source": [
        "import numpy as np"
      ]
    },
    {
      "cell_type": "markdown",
      "id": "99e523d4-7645-4b08-af35-b714d5b14aef",
      "metadata": {
        "id": "99e523d4-7645-4b08-af35-b714d5b14aef"
      },
      "source": [
        "- **MLP 구조**\n",
        "> - **input layer node**:  2\n",
        "> - **hidden layer node**: 4\n",
        "> - **output layer node**: 3\n",
        "> - `ex>` `체온,혈압`(**2개 입력**)을 통해 `정상,코로나,감기`(**3개 출력**)를 분류하는 모델\n",
        "> - 입력 `X`는 총 5개의 sample로 구성됨 <br>\n",
        "`X.shape = (sample의 수, 특징의 수) = (sample의 수, input layer node의 수) = (5,2)` = (행.열)\n",
        "\n",
        "A.dot(B) → 결과 shape = (A의 행, B의 열)"
      ]
    },
    {
      "cell_type": "code",
      "execution_count": null,
      "id": "c41cf0b9-cf81-43a1-8830-58ee15a0b5fe",
      "metadata": {
        "id": "c41cf0b9-cf81-43a1-8830-58ee15a0b5fe",
        "outputId": "21ae915c-5fd0-40a9-9799-cf27a93c613b"
      },
      "outputs": [
        {
          "name": "stdout",
          "output_type": "stream",
          "text": [
            "(5, 2)\n"
          ]
        }
      ],
      "source": [
        "X = np.array([[0,1],\n",
        "              [1,0],\n",
        "              [1,1],\n",
        "              [-1,0],\n",
        "              [-1,-1]])\n",
        "print(X.shape)"
      ]
    },
    {
      "cell_type": "markdown",
      "id": "4df45fee-53ea-413c-9342-d6953a52cc93",
      "metadata": {
        "id": "4df45fee-53ea-413c-9342-d6953a52cc93"
      },
      "source": [
        "- 가중치(W):  레이어 사이를 연결하는 다리\n",
        "- 편향(b): 각 뉴런의 고유 성향\n",
        "- `W1`: input layer(입력층)와 hidden layer(은닉층) 사이의 가중치\n",
        "- `b1`: hidden layer node(은닉층)의 편향\n",
        "- `W2`: hidden laye(은닉층)r와 ouput layer(출력층) 사이의 가중치\n",
        "- `b2`: output layer node(출력층 편향)의 편향\n",
        "- `W.shape` = **(출발 layer node의 수, 도착 layer node의 수)**\n",
        "- `b.shape` = **(layer node의 수)**"
      ]
    },
    {
      "cell_type": "markdown",
      "id": "76846d1e-f68a-4810-a650-267ab56cff2b",
      "metadata": {
        "id": "76846d1e-f68a-4810-a650-267ab56cff2b"
      },
      "source": [
        "- `W1.shape = (2,4)`2차원 -대괄호가 두 개\n",
        "- `b1.shape = (4, )`1차원 -한 줄로만/행,열 개념없음\n",
        "- `W2.shape = (4,3)`2차원\n",
        "- `b2.shape = (3, )`1차원"
      ]
    },
    {
      "cell_type": "code",
      "execution_count": null,
      "id": "a5a6f5ae-0c6d-459b-b9fa-e012f5661b6d",
      "metadata": {
        "id": "a5a6f5ae-0c6d-459b-b9fa-e012f5661b6d",
        "outputId": "eb1241e7-9a60-4cfc-e286-0b34f05032f7"
      },
      "outputs": [
        {
          "name": "stdout",
          "output_type": "stream",
          "text": [
            "(2, 4) (4,) (4, 3) (3,)\n"
          ]
        }
      ],
      "source": [
        "W1 = np.array([[0.5,-0.2,0.7,-0.8],\n",
        "               [-0.3,0.2,0.5,-0.1]])\n",
        "b1 = np.array([0.5,-0.2,-0.3,0.7])\n",
        "W2 = np.array([[-0.3,-0.2,0.6],\n",
        "               [0.2,0.3,-0.5],\n",
        "               [-0.7,0.3,0.3],\n",
        "               [0.6,-0.5,-0.1]])\n",
        "b2 = np.array([-0.3,0.8,-0.6])\n",
        "print(W1.shape, b1.shape, W2.shape, b2.shape)"
      ]
    },
    {
      "cell_type": "markdown",
      "id": "1f77f911-d656-4c09-b26c-0b01074847b0",
      "metadata": {
        "id": "1f77f911-d656-4c09-b26c-0b01074847b0"
      },
      "source": [
        "- **hidden layer node**의 값 `a1`\n",
        "> - `입력.dot(가중치) + 편향`\n",
        "> - `X.dot(W1) + b1`\n",
        "> - `X.shape = (5,2)`, `W1.shape = (2,4)`, `b1.shape = (4,)`\n",
        "> - `a1.shape = (5,4)` = **(입력 sample의 수, hidden layer node의 수)**"
      ]
    },
    {
      "cell_type": "code",
      "execution_count": null,
      "id": "5ca2a7d7-b352-46a5-a79c-c1d6162fcd10",
      "metadata": {
        "id": "5ca2a7d7-b352-46a5-a79c-c1d6162fcd10"
      },
      "outputs": [],
      "source": [
        "a1 = X.dot(W1) + b1"
      ]
    },
    {
      "cell_type": "code",
      "execution_count": null,
      "id": "f2c82354-2f0d-4296-bc63-6716a39910c1",
      "metadata": {
        "id": "f2c82354-2f0d-4296-bc63-6716a39910c1",
        "outputId": "0aa1a85b-5a0a-4cea-c8b6-a480704edf93"
      },
      "outputs": [
        {
          "name": "stdout",
          "output_type": "stream",
          "text": [
            "(5, 4)\n"
          ]
        }
      ],
      "source": [
        "print(a1.shape)"
      ]
    },
    {
      "cell_type": "code",
      "execution_count": null,
      "id": "cfb60c11-5035-473c-a8b7-f400df4e4005",
      "metadata": {
        "id": "cfb60c11-5035-473c-a8b7-f400df4e4005",
        "outputId": "d9ead3ab-3691-4a3e-aec2-7885a4f170e3"
      },
      "outputs": [
        {
          "name": "stdout",
          "output_type": "stream",
          "text": [
            "[[ 0.2  0.   0.2  0.6]\n",
            " [ 1.  -0.4  0.4 -0.1]\n",
            " [ 0.7 -0.2  0.9 -0.2]\n",
            " [ 0.   0.  -1.   1.5]\n",
            " [ 0.3 -0.2 -1.5  1.6]]\n"
          ]
        }
      ],
      "source": [
        "print(a1)\n",
        "# a1의 각 행은 총 5개 각각의 입력에 대한 hidden layer node의 값을 의미함"
      ]
    },
    {
      "cell_type": "markdown",
      "id": "34a7b891-104a-4c1d-b7fe-c461190d5487",
      "metadata": {
        "id": "34a7b891-104a-4c1d-b7fe-c461190d5487"
      },
      "source": [
        "- activation function **sigmoid** 정의"
      ]
    },
    {
      "cell_type": "code",
      "execution_count": null,
      "id": "34d6d83f-6f01-48e9-b7b4-6a41a8572517",
      "metadata": {
        "id": "34d6d83f-6f01-48e9-b7b4-6a41a8572517"
      },
      "outputs": [],
      "source": [
        "def sigmoid(x):\n",
        "    return 1/(1 + np.exp(-x))"
      ]
    },
    {
      "cell_type": "markdown",
      "id": "81a6db44-59bd-46a7-add5-3891482f1630",
      "metadata": {
        "id": "81a6db44-59bd-46a7-add5-3891482f1630"
      },
      "source": [
        "- 위 `sigmoid` 함수의 입력은 `ndarray`이며, 반환하는 결과는 입력 `ndarray`와 `shape`이 동일한 `ndarray`임\n",
        "- 즉, 입력 `ndarray`의 **각 요소에 위 함수가 적용**되어 결과가 입력과 동일한 형태로 반환됨"
      ]
    },
    {
      "cell_type": "code",
      "execution_count": null,
      "id": "c7d129aa-5554-40f9-9875-08b73d45b76a",
      "metadata": {
        "id": "c7d129aa-5554-40f9-9875-08b73d45b76a",
        "outputId": "c1debdb8-4b7c-4e02-9b29-338e76d8aa12"
      },
      "outputs": [
        {
          "name": "stdout",
          "output_type": "stream",
          "text": [
            "(200,) (200,)\n"
          ]
        },
        {
          "data": {
            "text/plain": [
              "[<matplotlib.lines.Line2D at 0x1c2b6e5f790>]"
            ]
          },
          "execution_count": 8,
          "metadata": {},
          "output_type": "execute_result"
        },
        {
          "data": {
            "image/png": "[encoded data removed]",
            "text/plain": [
              "<Figure size 400x200 with 1 Axes>"
            ]
          },
          "metadata": {},
          "output_type": "display_data"
        }
      ],
      "source": [
        "# sigmoid 시각화\n",
        "import matplotlib.pyplot as plt\n",
        "x = np.arange(-10,10,0.1)\n",
        "y = sigmoid(x)\n",
        "print(x.shape, y.shape)\n",
        "plt.figure(figsize=(4,2))\n",
        "plt.plot(x,y)"
      ]
    },
    {
      "cell_type": "markdown",
      "id": "00e2f6c5-0cf2-4501-9bd8-54d0f30def54",
      "metadata": {
        "id": "00e2f6c5-0cf2-4501-9bd8-54d0f30def54"
      },
      "source": [
        "- `z1`: `a1`이 **sigmoid function**(활성화함수)를 통과한 결과"
      ]
    },
    {
      "cell_type": "code",
      "execution_count": null,
      "id": "31e59a4d-da8c-46a9-9c88-79fb6f7fbcb4",
      "metadata": {
        "id": "31e59a4d-da8c-46a9-9c88-79fb6f7fbcb4"
      },
      "outputs": [],
      "source": [
        "z1 = sigmoid(a1)"
      ]
    },
    {
      "cell_type": "code",
      "execution_count": null,
      "id": "aabac556-aba8-4a12-9dcb-58d62ce3fe82",
      "metadata": {
        "id": "aabac556-aba8-4a12-9dcb-58d62ce3fe82",
        "outputId": "f9e3dd6f-0228-4684-a8e6-01ae31dcf370"
      },
      "outputs": [
        {
          "name": "stdout",
          "output_type": "stream",
          "text": [
            "(5, 4)\n"
          ]
        }
      ],
      "source": [
        "print(z1.shape)"
      ]
    },
    {
      "cell_type": "markdown",
      "id": "8cb5a6b5-eda3-42ad-a105-b586920c2845",
      "metadata": {
        "id": "8cb5a6b5-eda3-42ad-a105-b586920c2845"
      },
      "source": [
        "- **output layer node의 값** `a2` (shape도 확인할 것)"
      ]
    },
    {
      "cell_type": "code",
      "execution_count": null,
      "id": "f44c4d94-e67a-4fe4-ab42-6c74f7df12ba",
      "metadata": {
        "id": "f44c4d94-e67a-4fe4-ab42-6c74f7df12ba"
      },
      "outputs": [],
      "source": [
        "a2 = z1.dot(W2) + b2"
      ]
    },
    {
      "cell_type": "code",
      "execution_count": null,
      "id": "7708bf2d-1b97-4e33-a907-707dd924a69b",
      "metadata": {
        "id": "7708bf2d-1b97-4e33-a907-707dd924a69b",
        "outputId": "7889b11d-b41e-4582-8d8c-673022e4bd10"
      },
      "outputs": [
        {
          "name": "stdout",
          "output_type": "stream",
          "text": [
            "(5, 3)\n"
          ]
        }
      ],
      "source": [
        "# a2.shape = (data sample의 수, output layer node의 수)\n",
        "print(a2.shape)"
      ]
    },
    {
      "cell_type": "markdown",
      "id": "d30a8804-9a03-4121-9b4d-67cf285cc000",
      "metadata": {
        "id": "d30a8804-9a03-4121-9b4d-67cf285cc000"
      },
      "source": [
        "- `y`: `a2`가 **sigmoid function**을 통과한 결과"
      ]
    },
    {
      "cell_type": "code",
      "execution_count": null,
      "id": "bbfd51a5-22c9-4cdc-af2b-5be1815dd43f",
      "metadata": {
        "id": "bbfd51a5-22c9-4cdc-af2b-5be1815dd43f"
      },
      "outputs": [],
      "source": [
        "y = sigmoid(a2)"
      ]
    },
    {
      "cell_type": "code",
      "execution_count": null,
      "id": "3e8a8a99-4665-44d7-980c-47137db497d8",
      "metadata": {
        "id": "3e8a8a99-4665-44d7-980c-47137db497d8",
        "outputId": "aa4aeb3c-a621-450f-eda0-2f836705ddcc"
      },
      "outputs": [
        {
          "name": "stdout",
          "output_type": "stream",
          "text": [
            "[[0.41036899 0.66421956 0.39658494]\n",
            " [0.3605163  0.67178685 0.44277267]\n",
            " [0.34570146 0.68774846 0.43637133]\n",
            " [0.48807369 0.62759082 0.36561503]\n",
            " [0.49730343 0.61274839 0.37545338]]\n"
          ]
        }
      ],
      "source": [
        "print(y)"
      ]
    },
    {
      "cell_type": "code",
      "execution_count": null,
      "id": "4cf3f005-a029-4c7a-b6d2-0dcbcf3418a3",
      "metadata": {
        "id": "4cf3f005-a029-4c7a-b6d2-0dcbcf3418a3",
        "outputId": "c031b6ef-64b6-4320-bc9b-367aaa6b9497"
      },
      "outputs": [
        {
          "name": "stdout",
          "output_type": "stream",
          "text": [
            "(5, 3)\n"
          ]
        }
      ],
      "source": [
        "print(y.shape)"
      ]
    },
    {
      "cell_type": "markdown",
      "id": "02f81892-906f-49ba-8dfb-a5ff14c7ce61",
      "metadata": {
        "id": "02f81892-906f-49ba-8dfb-a5ff14c7ce61"
      },
      "source": [
        "### output layer의 activation function이 softmax일 경우"
      ]
    },
    {
      "cell_type": "code",
      "execution_count": null,
      "id": "512d4d93-8ae2-468f-a3e9-6bb43086bf55",
      "metadata": {
        "id": "512d4d93-8ae2-468f-a3e9-6bb43086bf55",
        "outputId": "3779d07e-8a6c-4077-be25-4fb3bda813e0"
      },
      "outputs": [
        {
          "data": {
            "text/plain": [
              "array([[-0.36244021,  0.68215525, -0.41971503],\n",
              "       [-0.57312398,  0.71627788, -0.22991681],\n",
              "       [-0.63798818,  0.7896141 , -0.25590209],\n",
              "       [-0.04771431,  0.52189519, -0.55107502],\n",
              "       [-0.01078639,  0.45887976, -0.50889167]])"
            ]
          },
          "execution_count": 17,
          "metadata": {},
          "output_type": "execute_result"
        }
      ],
      "source": [
        "a2"
      ]
    },
    {
      "cell_type": "code",
      "execution_count": null,
      "id": "77a52222-fb15-46a0-a286-a9677cfc150f",
      "metadata": {
        "id": "77a52222-fb15-46a0-a286-a9677cfc150f",
        "outputId": "c32a6487-9d96-4d5c-9ce5-e0145d49b97b"
      },
      "outputs": [
        {
          "data": {
            "text/plain": [
              "array([[0.69597592, 1.97813651, 0.65723408],\n",
              "       [0.56376151, 2.04680057, 0.79459971],\n",
              "       [0.52835431, 2.20254629, 0.77421777],\n",
              "       [0.95340613, 1.68521843, 0.57632991],\n",
              "       [0.98927157, 1.58230044, 0.60116149]])"
            ]
          },
          "execution_count": 19,
          "metadata": {},
          "output_type": "execute_result"
        }
      ],
      "source": [
        "np.exp(a2)\n",
        "# a2의 각 요소에 exp가 적용된 결과"
      ]
    },
    {
      "cell_type": "code",
      "execution_count": null,
      "id": "279fe1fa-68e3-45b4-8c82-bebb08cf19bc",
      "metadata": {
        "id": "279fe1fa-68e3-45b4-8c82-bebb08cf19bc",
        "outputId": "a1b0264a-1654-49b2-93ac-9f3c7e1f6c9f"
      },
      "outputs": [
        {
          "data": {
            "text/plain": [
              "array([3.33134652, 3.40516178, 3.50511837, 3.21495447, 3.17273351])"
            ]
          },
          "execution_count": 22,
          "metadata": {},
          "output_type": "execute_result"
        }
      ],
      "source": [
        "# np.exp(a2)의 각요소에 np.exp(a2) 각 행의 합을 나눠야 함\n",
        "# np.exp(a2).sum(): 모든 원소의 합\n",
        "# np.exp(a2).sum(axis=0): 각 열에 대해 모든 행의 값을 더한 결과\n",
        "# np.exp(a2).sum(axis=1): 각 행에 대해 모든 열의 값을 더한 결과\n",
        "np.exp(a2).sum(axis=1)"
      ]
    },
    {
      "cell_type": "code",
      "execution_count": null,
      "id": "6c99679b-633b-49ab-a534-0b40eb28eaa8",
      "metadata": {
        "id": "6c99679b-633b-49ab-a534-0b40eb28eaa8",
        "outputId": "bfb7156c-7698-4bd3-b851-a99e01175d06"
      },
      "outputs": [
        {
          "data": {
            "text/plain": [
              "array([[0.2089173 , 0.59379488, 0.19728782],\n",
              "       [0.16556086, 0.60108761, 0.23335153],\n",
              "       [0.15073794, 0.62838   , 0.22088206],\n",
              "       [0.29655354, 0.52418112, 0.17926534],\n",
              "       [0.31180418, 0.49871836, 0.18947746]])"
            ]
          },
          "execution_count": 24,
          "metadata": {},
          "output_type": "execute_result"
        }
      ],
      "source": [
        "# np.exp(a2)에 각 행의 합을 나눔\n",
        "# (a,b)인 2d array와 (b,)인 1d array의 사칙연산은 가능하나\n",
        "# (a,b)인 2d array와 (a,)인 1d array의 사칙연산은 불가능하므로,\n",
        "# (a,)인 1d array를 (a,1)인 2d array로 변환하여 연산함\n",
        "# np.exp(a2)/np.exp(a2).sum(axis=1) -> 오류 발생\n",
        "np.exp(a2)/np.exp(a2).sum(axis=1).reshape(-1,1)"
      ]
    },
    {
      "cell_type": "markdown",
      "id": "92452fed-828b-4d2a-8fe4-f75e6723ea3d",
      "metadata": {
        "id": "92452fed-828b-4d2a-8fe4-f75e6723ea3d"
      },
      "source": [
        "- `softmax` 정의"
      ]
    },
    {
      "cell_type": "code",
      "execution_count": null,
      "id": "9961b157-1989-443f-b721-27d82392ee4c",
      "metadata": {
        "id": "9961b157-1989-443f-b721-27d82392ee4c"
      },
      "outputs": [],
      "source": [
        "def softmax(a):\n",
        "    return np.exp(a)/np.exp(a).sum(axis=1).reshape(-1,1)"
      ]
    },
    {
      "cell_type": "code",
      "execution_count": null,
      "id": "0e2a52a6-cf73-4aad-a4da-e0c1e52c1083",
      "metadata": {
        "id": "0e2a52a6-cf73-4aad-a4da-e0c1e52c1083"
      },
      "outputs": [],
      "source": [
        "y = softmax(a2)"
      ]
    },
    {
      "cell_type": "code",
      "execution_count": null,
      "id": "bd333aac-9c05-4c2b-8c65-642434c8712d",
      "metadata": {
        "id": "bd333aac-9c05-4c2b-8c65-642434c8712d",
        "outputId": "f7baf4c6-e827-4d12-d092-ab72507f4614"
      },
      "outputs": [
        {
          "data": {
            "text/plain": [
              "array([[0.2089173 , 0.59379488, 0.19728782],\n",
              "       [0.16556086, 0.60108761, 0.23335153],\n",
              "       [0.15073794, 0.62838   , 0.22088206],\n",
              "       [0.29655354, 0.52418112, 0.17926534],\n",
              "       [0.31180418, 0.49871836, 0.18947746]])"
            ]
          },
          "execution_count": 27,
          "metadata": {},
          "output_type": "execute_result"
        }
      ],
      "source": [
        "y"
      ]
    },
    {
      "cell_type": "code",
      "execution_count": null,
      "id": "2edf8fb8-24be-4e42-ba87-e3150303b8e7",
      "metadata": {
        "id": "2edf8fb8-24be-4e42-ba87-e3150303b8e7",
        "outputId": "24213236-13e0-4eb2-a29a-e8a63232cabf"
      },
      "outputs": [
        {
          "data": {
            "text/plain": [
              "array([1., 1., 1., 1., 1.])"
            ]
          },
          "execution_count": 28,
          "metadata": {},
          "output_type": "execute_result"
        }
      ],
      "source": [
        "# 각 행에 대해 모든 열의 값 합이 1이 됨을 확인\n",
        "y.sum(axis=1)"
      ]
    }
  ],
  "metadata": {
    "kernelspec": {
      "display_name": "Python 3 (ipykernel)",
      "language": "python",
      "name": "python3"
    },
    "language_info": {
      "codemirror_mode": {
        "name": "ipython",
        "version": 3
      },
      "file_extension": ".py",
      "mimetype": "text/x-python",
      "name": "python",
      "nbconvert_exporter": "python",
      "pygments_lexer": "ipython3",
      "version": "3.11.7"
    },
    "colab": {
      "provenance": [],
      "toc_visible": true,
      "include_colab_link": true
    }
  },
  "nbformat": 4,
  "nbformat_minor": 5
}